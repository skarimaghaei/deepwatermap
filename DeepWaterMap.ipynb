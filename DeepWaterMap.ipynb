{
 "cells": [
  {
   "cell_type": "markdown",
   "id": "f0df9966",
   "metadata": {},
   "source": [
    "# Save input files in sample_data folder in DeepWaterMap directory. Output files are saved in DeepWaterMap main folder as png files"
   ]
  },
  {
   "cell_type": "code",
   "execution_count": 1,
   "id": "14b4f1de",
   "metadata": {},
   "outputs": [],
   "source": [
    "import os\n",
    "mydir = r'sample_data' # dont include spaces in directory name\n",
    "infilenames = [file for file in os.listdir(mydir)] # get list of input file names in mydir\n",
    "infilepaths = [mydir+'\\\\'+filename for filename in infilenames] # list of the input files with full paths\n",
    "outfilenames = [infilename[:-4] + '_watermap.png' for infilename in infilenames] # list of output file names"
   ]
  },
  {
   "cell_type": "code",
   "execution_count": 3,
   "id": "020b3684",
   "metadata": {},
   "outputs": [
    {
     "name": "stderr",
     "output_type": "stream",
     "text": [
      "2024-10-07 09:37:39.090807: I tensorflow/core/util/port.cc:153] oneDNN custom operations are on. You may see slightly different numerical results due to floating-point round-off errors from different computation orders. To turn them off, set the environment variable `TF_ENABLE_ONEDNN_OPTS=0`.\n",
      "2024-10-07 09:37:40.063392: I tensorflow/core/util/port.cc:153] oneDNN custom operations are on. You may see slightly different numerical results due to floating-point round-off errors from different computation orders. To turn them off, set the environment variable `TF_ENABLE_ONEDNN_OPTS=0`.\n",
      "2024-10-07 09:37:41.896415: I tensorflow/core/platform/cpu_feature_guard.cc:210] This TensorFlow binary is optimized to use available CPU instructions in performance-critical operations.\n",
      "To enable the following instructions: AVX2 FMA, in other operations, rebuild TensorFlow with the appropriate compiler flags.\n",
      "WARNING:tensorflow:From c:\\Software\\Anaconda3\\envs\\deepwatermap\\Lib\\site-packages\\keras\\src\\backend\\tensorflow\\core.py:204: The name tf.placeholder is deprecated. Please use tf.compat.v1.placeholder instead.\n",
      "\n",
      "Traceback (most recent call last):\n",
      "  File \"c:\\Users\\sk35569\\Coding\\deepwatermap\\inference.py\", line 70, in <module>\n",
      "    main(args.checkpoint_path, args.image_path, args.save_path)\n",
      "  File \"c:\\Users\\sk35569\\Coding\\deepwatermap\\inference.py\", line 28, in main\n",
      "    model.load_weights(checkpoint_path)\n",
      "  File \"c:\\Software\\Anaconda3\\envs\\deepwatermap\\Lib\\site-packages\\keras\\src\\utils\\traceback_utils.py\", line 122, in error_handler\n",
      "    raise e.with_traceback(filtered_tb) from None\n",
      "  File \"c:\\Software\\Anaconda3\\envs\\deepwatermap\\Lib\\site-packages\\keras\\src\\saving\\saving_api.py\", line 273, in load_weights\n",
      "    raise ValueError(\n",
      "ValueError: File format not supported: filepath=checkpoints/cp.135.ckpt. Keras 3 only supports V3 `.keras` and `.weights.h5` files, or legacy V1/V2 `.h5` files.\n",
      "2024-10-07 09:37:43.338857: I tensorflow/core/util/port.cc:153] oneDNN custom operations are on. You may see slightly different numerical results due to floating-point round-off errors from different computation orders. To turn them off, set the environment variable `TF_ENABLE_ONEDNN_OPTS=0`.\n",
      "2024-10-07 09:37:44.325844: I tensorflow/core/util/port.cc:153] oneDNN custom operations are on. You may see slightly different numerical results due to floating-point round-off errors from different computation orders. To turn them off, set the environment variable `TF_ENABLE_ONEDNN_OPTS=0`.\n",
      "2024-10-07 09:37:46.204097: I tensorflow/core/platform/cpu_feature_guard.cc:210] This TensorFlow binary is optimized to use available CPU instructions in performance-critical operations.\n",
      "To enable the following instructions: AVX2 FMA, in other operations, rebuild TensorFlow with the appropriate compiler flags.\n",
      "WARNING:tensorflow:From c:\\Software\\Anaconda3\\envs\\deepwatermap\\Lib\\site-packages\\keras\\src\\backend\\tensorflow\\core.py:204: The name tf.placeholder is deprecated. Please use tf.compat.v1.placeholder instead.\n",
      "\n",
      "Traceback (most recent call last):\n",
      "  File \"c:\\Users\\sk35569\\Coding\\deepwatermap\\inference.py\", line 70, in <module>\n",
      "    main(args.checkpoint_path, args.image_path, args.save_path)\n",
      "  File \"c:\\Users\\sk35569\\Coding\\deepwatermap\\inference.py\", line 28, in main\n",
      "    model.load_weights(checkpoint_path)\n",
      "  File \"c:\\Software\\Anaconda3\\envs\\deepwatermap\\Lib\\site-packages\\keras\\src\\utils\\traceback_utils.py\", line 122, in error_handler\n",
      "    raise e.with_traceback(filtered_tb) from None\n",
      "  File \"c:\\Software\\Anaconda3\\envs\\deepwatermap\\Lib\\site-packages\\keras\\src\\saving\\saving_api.py\", line 273, in load_weights\n",
      "    raise ValueError(\n",
      "ValueError: File format not supported: filepath=checkpoints/cp.135.ckpt. Keras 3 only supports V3 `.keras` and `.weights.h5` files, or legacy V1/V2 `.h5` files.\n"
     ]
    }
   ],
   "source": [
    "# edit the !python line in the loop below\n",
    "for i in range(len(infilenames)):\n",
    "    infilepath = infilepaths[i]\n",
    "    outfilename = outfilenames[i]\n",
    "    !python inference.py  --checkpoint_path checkpoints/cp.135.ckpt --image_path $infilepath --save_path $outfilename"
   ]
  },
  {
   "cell_type": "markdown",
   "id": "5fa6117b",
   "metadata": {},
   "source": [
    "To have .tif output file format"
   ]
  },
  {
   "cell_type": "code",
   "execution_count": 1,
   "id": "a5562422",
   "metadata": {},
   "outputs": [],
   "source": [
    "import os\n",
    "mydir = r'sample_data\\CSS' # dont include spaces in directory name\n",
    "infilenames = [file for file in os.listdir(mydir)] # get list of input file names in mydir\n",
    "infilepaths = [mydir+'\\\\'+filename for filename in infilenames] # list of the input files with full paths\n",
    "outfilenames = [infilename[:-4] + '_watermap.tif' for infilename in infilenames] # list of output file names"
   ]
  },
  {
   "cell_type": "code",
   "execution_count": 2,
   "id": "fb432770",
   "metadata": {},
   "outputs": [
    {
     "name": "stderr",
     "output_type": "stream",
     "text": [
      "2022-06-30 15:25:06.656819: I tensorflow/core/platform/cpu_feature_guard.cc:141] Your CPU supports instructions that this TensorFlow binary was not compiled to use: AVX\n",
      "C:\\Software\\Anaconda3\\envs\\deepwatermap\\lib\\site-packages\\tensorflow\\python\\framework\\dtypes.py:523: FutureWarning: Passing (type, 1) or '1type' as a synonym of type is deprecated; in a future version of numpy, it will be understood as (type, (1,)) / '(1,)type'.\n",
      "  _np_qint8 = np.dtype([(\"qint8\", np.int8, 1)])\n",
      "C:\\Software\\Anaconda3\\envs\\deepwatermap\\lib\\site-packages\\tensorflow\\python\\framework\\dtypes.py:524: FutureWarning: Passing (type, 1) or '1type' as a synonym of type is deprecated; in a future version of numpy, it will be understood as (type, (1,)) / '(1,)type'.\n",
      "  _np_quint8 = np.dtype([(\"quint8\", np.uint8, 1)])\n",
      "C:\\Software\\Anaconda3\\envs\\deepwatermap\\lib\\site-packages\\tensorflow\\python\\framework\\dtypes.py:525: FutureWarning: Passing (type, 1) or '1type' as a synonym of type is deprecated; in a future version of numpy, it will be understood as (type, (1,)) / '(1,)type'.\n",
      "  _np_qint16 = np.dtype([(\"qint16\", np.int16, 1)])\n",
      "C:\\Software\\Anaconda3\\envs\\deepwatermap\\lib\\site-packages\\tensorflow\\python\\framework\\dtypes.py:526: FutureWarning: Passing (type, 1) or '1type' as a synonym of type is deprecated; in a future version of numpy, it will be understood as (type, (1,)) / '(1,)type'.\n",
      "  _np_quint16 = np.dtype([(\"quint16\", np.uint16, 1)])\n",
      "C:\\Software\\Anaconda3\\envs\\deepwatermap\\lib\\site-packages\\tensorflow\\python\\framework\\dtypes.py:527: FutureWarning: Passing (type, 1) or '1type' as a synonym of type is deprecated; in a future version of numpy, it will be understood as (type, (1,)) / '(1,)type'.\n",
      "  _np_qint32 = np.dtype([(\"qint32\", np.int32, 1)])\n",
      "C:\\Software\\Anaconda3\\envs\\deepwatermap\\lib\\site-packages\\tensorflow\\python\\framework\\dtypes.py:532: FutureWarning: Passing (type, 1) or '1type' as a synonym of type is deprecated; in a future version of numpy, it will be understood as (type, (1,)) / '(1,)type'.\n",
      "  np_resource = np.dtype([(\"resource\", np.ubyte, 1)])\n",
      "2022-06-30 15:32:50.881410: I tensorflow/core/platform/cpu_feature_guard.cc:141] Your CPU supports instructions that this TensorFlow binary was not compiled to use: AVX\n",
      "C:\\Software\\Anaconda3\\envs\\deepwatermap\\lib\\site-packages\\tensorflow\\python\\framework\\dtypes.py:523: FutureWarning: Passing (type, 1) or '1type' as a synonym of type is deprecated; in a future version of numpy, it will be understood as (type, (1,)) / '(1,)type'.\n",
      "  _np_qint8 = np.dtype([(\"qint8\", np.int8, 1)])\n",
      "C:\\Software\\Anaconda3\\envs\\deepwatermap\\lib\\site-packages\\tensorflow\\python\\framework\\dtypes.py:524: FutureWarning: Passing (type, 1) or '1type' as a synonym of type is deprecated; in a future version of numpy, it will be understood as (type, (1,)) / '(1,)type'.\n",
      "  _np_quint8 = np.dtype([(\"quint8\", np.uint8, 1)])\n",
      "C:\\Software\\Anaconda3\\envs\\deepwatermap\\lib\\site-packages\\tensorflow\\python\\framework\\dtypes.py:525: FutureWarning: Passing (type, 1) or '1type' as a synonym of type is deprecated; in a future version of numpy, it will be understood as (type, (1,)) / '(1,)type'.\n",
      "  _np_qint16 = np.dtype([(\"qint16\", np.int16, 1)])\n",
      "C:\\Software\\Anaconda3\\envs\\deepwatermap\\lib\\site-packages\\tensorflow\\python\\framework\\dtypes.py:526: FutureWarning: Passing (type, 1) or '1type' as a synonym of type is deprecated; in a future version of numpy, it will be understood as (type, (1,)) / '(1,)type'.\n",
      "  _np_quint16 = np.dtype([(\"quint16\", np.uint16, 1)])\n",
      "C:\\Software\\Anaconda3\\envs\\deepwatermap\\lib\\site-packages\\tensorflow\\python\\framework\\dtypes.py:527: FutureWarning: Passing (type, 1) or '1type' as a synonym of type is deprecated; in a future version of numpy, it will be understood as (type, (1,)) / '(1,)type'.\n",
      "  _np_qint32 = np.dtype([(\"qint32\", np.int32, 1)])\n",
      "C:\\Software\\Anaconda3\\envs\\deepwatermap\\lib\\site-packages\\tensorflow\\python\\framework\\dtypes.py:532: FutureWarning: Passing (type, 1) or '1type' as a synonym of type is deprecated; in a future version of numpy, it will be understood as (type, (1,)) / '(1,)type'.\n",
      "  np_resource = np.dtype([(\"resource\", np.ubyte, 1)])\n",
      "2022-06-30 15:41:09.665130: I tensorflow/core/platform/cpu_feature_guard.cc:141] Your CPU supports instructions that this TensorFlow binary was not compiled to use: AVX\n",
      "C:\\Software\\Anaconda3\\envs\\deepwatermap\\lib\\site-packages\\tensorflow\\python\\framework\\dtypes.py:523: FutureWarning: Passing (type, 1) or '1type' as a synonym of type is deprecated; in a future version of numpy, it will be understood as (type, (1,)) / '(1,)type'.\n",
      "  _np_qint8 = np.dtype([(\"qint8\", np.int8, 1)])\n",
      "C:\\Software\\Anaconda3\\envs\\deepwatermap\\lib\\site-packages\\tensorflow\\python\\framework\\dtypes.py:524: FutureWarning: Passing (type, 1) or '1type' as a synonym of type is deprecated; in a future version of numpy, it will be understood as (type, (1,)) / '(1,)type'.\n",
      "  _np_quint8 = np.dtype([(\"quint8\", np.uint8, 1)])\n",
      "C:\\Software\\Anaconda3\\envs\\deepwatermap\\lib\\site-packages\\tensorflow\\python\\framework\\dtypes.py:525: FutureWarning: Passing (type, 1) or '1type' as a synonym of type is deprecated; in a future version of numpy, it will be understood as (type, (1,)) / '(1,)type'.\n",
      "  _np_qint16 = np.dtype([(\"qint16\", np.int16, 1)])\n",
      "C:\\Software\\Anaconda3\\envs\\deepwatermap\\lib\\site-packages\\tensorflow\\python\\framework\\dtypes.py:526: FutureWarning: Passing (type, 1) or '1type' as a synonym of type is deprecated; in a future version of numpy, it will be understood as (type, (1,)) / '(1,)type'.\n",
      "  _np_quint16 = np.dtype([(\"quint16\", np.uint16, 1)])\n",
      "C:\\Software\\Anaconda3\\envs\\deepwatermap\\lib\\site-packages\\tensorflow\\python\\framework\\dtypes.py:527: FutureWarning: Passing (type, 1) or '1type' as a synonym of type is deprecated; in a future version of numpy, it will be understood as (type, (1,)) / '(1,)type'.\n",
      "  _np_qint32 = np.dtype([(\"qint32\", np.int32, 1)])\n",
      "C:\\Software\\Anaconda3\\envs\\deepwatermap\\lib\\site-packages\\tensorflow\\python\\framework\\dtypes.py:532: FutureWarning: Passing (type, 1) or '1type' as a synonym of type is deprecated; in a future version of numpy, it will be understood as (type, (1,)) / '(1,)type'.\n",
      "  np_resource = np.dtype([(\"resource\", np.ubyte, 1)])\n",
      "2022-06-30 15:50:32.711028: I tensorflow/core/platform/cpu_feature_guard.cc:141] Your CPU supports instructions that this TensorFlow binary was not compiled to use: AVX\n",
      "C:\\Software\\Anaconda3\\envs\\deepwatermap\\lib\\site-packages\\tensorflow\\python\\framework\\dtypes.py:523: FutureWarning: Passing (type, 1) or '1type' as a synonym of type is deprecated; in a future version of numpy, it will be understood as (type, (1,)) / '(1,)type'.\n",
      "  _np_qint8 = np.dtype([(\"qint8\", np.int8, 1)])\n",
      "C:\\Software\\Anaconda3\\envs\\deepwatermap\\lib\\site-packages\\tensorflow\\python\\framework\\dtypes.py:524: FutureWarning: Passing (type, 1) or '1type' as a synonym of type is deprecated; in a future version of numpy, it will be understood as (type, (1,)) / '(1,)type'.\n",
      "  _np_quint8 = np.dtype([(\"quint8\", np.uint8, 1)])\n",
      "C:\\Software\\Anaconda3\\envs\\deepwatermap\\lib\\site-packages\\tensorflow\\python\\framework\\dtypes.py:525: FutureWarning: Passing (type, 1) or '1type' as a synonym of type is deprecated; in a future version of numpy, it will be understood as (type, (1,)) / '(1,)type'.\n",
      "  _np_qint16 = np.dtype([(\"qint16\", np.int16, 1)])\n",
      "C:\\Software\\Anaconda3\\envs\\deepwatermap\\lib\\site-packages\\tensorflow\\python\\framework\\dtypes.py:526: FutureWarning: Passing (type, 1) or '1type' as a synonym of type is deprecated; in a future version of numpy, it will be understood as (type, (1,)) / '(1,)type'.\n",
      "  _np_quint16 = np.dtype([(\"quint16\", np.uint16, 1)])\n",
      "C:\\Software\\Anaconda3\\envs\\deepwatermap\\lib\\site-packages\\tensorflow\\python\\framework\\dtypes.py:527: FutureWarning: Passing (type, 1) or '1type' as a synonym of type is deprecated; in a future version of numpy, it will be understood as (type, (1,)) / '(1,)type'.\n",
      "  _np_qint32 = np.dtype([(\"qint32\", np.int32, 1)])\n",
      "C:\\Software\\Anaconda3\\envs\\deepwatermap\\lib\\site-packages\\tensorflow\\python\\framework\\dtypes.py:532: FutureWarning: Passing (type, 1) or '1type' as a synonym of type is deprecated; in a future version of numpy, it will be understood as (type, (1,)) / '(1,)type'.\n",
      "  np_resource = np.dtype([(\"resource\", np.ubyte, 1)])\n"
     ]
    }
   ],
   "source": [
    "# edit the !python line in the loop below\n",
    "for i in range(len(infilenames)):\n",
    "    infilepath = infilepaths[i]\n",
    "    outfilename = outfilenames[i]\n",
    "    !python inference_tif.py  --checkpoint_path checkpoints/cp.135.ckpt --image_path $infilepath --save_path $outfilename"
   ]
  },
  {
   "cell_type": "code",
   "execution_count": null,
   "id": "2128c3e9",
   "metadata": {},
   "outputs": [],
   "source": []
  }
 ],
 "metadata": {
  "kernelspec": {
   "display_name": "Python 3",
   "language": "python",
   "name": "python3"
  },
  "language_info": {
   "codemirror_mode": {
    "name": "ipython",
    "version": 3
   },
   "file_extension": ".py",
   "mimetype": "text/x-python",
   "name": "python",
   "nbconvert_exporter": "python",
   "pygments_lexer": "ipython3",
   "version": "3.12.6"
  }
 },
 "nbformat": 4,
 "nbformat_minor": 5
}
